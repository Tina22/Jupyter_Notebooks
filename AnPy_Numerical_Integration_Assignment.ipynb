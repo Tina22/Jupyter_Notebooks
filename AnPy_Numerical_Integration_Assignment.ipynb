{
 "cells": [
  {
   "cell_type": "code",
   "execution_count": 36,
   "metadata": {},
   "outputs": [],
   "source": [
    "# Imports\n",
    "import math as mt\n",
    "import sympy as sy\n",
    "import numpy as np"
   ]
  },
  {
   "cell_type": "code",
   "execution_count": 37,
   "metadata": {},
   "outputs": [],
   "source": [
    "# Vordefinierte Funktionen \n",
    "def function1(x):\n",
    "    return mt.sin(x)\n",
    "\n",
    "def function2(x):\n",
    "    return x*x * mt.sqrt(1-x*x)\n",
    "\n",
    "def function3(x):\n",
    "    return x*x \n"
   ]
  },
  {
   "cell_type": "code",
   "execution_count": 38,
   "metadata": {},
   "outputs": [],
   "source": [
    "# Sekantentrapezformel\n",
    "def Sekanten_trapez_regel(f,a,b,n):\n",
    "\n",
    "    h = (b-a)/float(n)\n",
    "    result = f(a)/2 + f(b)/2\n",
    "    \n",
    "    for k in range(1,n-1):\n",
    "        result += f(a+k*h)\n",
    "    \n",
    "    result *= h\n",
    "    return result"
   ]
  },
  {
   "cell_type": "code",
   "execution_count": 39,
   "metadata": {},
   "outputs": [],
   "source": [
    "# Tangententrapezformel\n",
    "def Tangenten_trapez_regel(f,a,b,n):\n",
    "    h = (b-a)/float(n)\n",
    "    result = 0\n",
    "    \n",
    "    for k in range(1,n):\n",
    "        result += f(a+k*h)- h/2\n",
    "        \n",
    "    result *= h\n",
    "    return result"
   ]
  },
  {
   "cell_type": "code",
   "execution_count": 40,
   "metadata": {},
   "outputs": [],
   "source": [
    "# Simpson Rule\n",
    "def Simpson_regel(f,a,b,n):\n",
    "\n",
    "    h = (b-a)/float(n)\n",
    "    \n",
    "    def calcX(p):\n",
    "        return a+p*h\n",
    "    \n",
    "\n",
    "    result = f(a)\n",
    "    \n",
    "    temp1 = 0\n",
    "    for k in range(1,n-1):\n",
    "        temp1 +=f(calcX(k))\n",
    "    result += 2*temp1    \n",
    "    \n",
    "    result += f(calcX(n))\n",
    "    \n",
    "    temp2 = 0\n",
    "    for k in range(1,n):\n",
    "        temp2 += f((calcX(k-1) + calcX(k)) / 2)\n",
    "    result += 4*temp2\n",
    "        \n",
    "    result *= h/6  \n",
    "    return result"
   ]
  },
  {
   "cell_type": "code",
   "execution_count": 57,
   "metadata": {},
   "outputs": [
    {
     "name": "stdout",
     "output_type": "stream",
     "text": [
      "Bitte wählen Sie eine Funktion. \n",
      "1\n",
      "Bitte wählen Sie die Anzahl Streifen. \n",
      "100\n",
      "Ergebnis der Sekantentrapezregel: 1.998849\n",
      "Ergebnis der Tangententrapezregel: 1.950981\n",
      "Ergebnis der Simpson Regel: 1.999342\n",
      "Ergebnis der Berechnung mit Sympy: 2.000000\n"
     ]
    }
   ],
   "source": [
    "#main function  \n",
    "def main():\n",
    "    \n",
    "    x = sy.Symbol('x')\n",
    "\n",
    "    func = int(input(\"Bitte wählen Sie eine Funktion. \\n\"))\n",
    "\n",
    "    if func == 1:\n",
    "\n",
    "        a = 0\n",
    "        b = mt.pi \n",
    "        n = int(input(\"Bitte wählen Sie die Anzahl Streifen. \\n\"))\n",
    "        f = function1\n",
    "     \n",
    "        \n",
    "    \n",
    "        sek = Sekanten_trapez_regel(f,a,b,n)\n",
    "        tang = Tangenten_trapez_regel(f,a,b,n)\n",
    "        sim = Simpson_regel(f,a,b,n)\n",
    "        \n",
    "        ing = sy.integrate(sy.sin(x),(x,a,b))\n",
    "\n",
    "        print(\"Ergebnis der Sekantentrapezregel: %f\" % sek)\n",
    "        print(\"Ergebnis der Tangententrapezregel: %f\" % tang)\n",
    "        print(\"Ergebnis der Simpson Regel: %f\" % sim)\n",
    "        print(\"Ergebnis der Berechnung mit Sympy: %f\" % ing)\n",
    "\n",
    "    elif(func == 2):\n",
    "        a = -1\n",
    "        b = 1 \n",
    "        n = int(input(\"Bitte wählen Sie die Anzahl Streifen. \\n\"))\n",
    "        f = function2\n",
    "        \n",
    "        sek = Sekanten_trapez_regel(f,a,b,n)\n",
    "        tang = Tangenten_trapez_regel(f,a,b,n)\n",
    "        sim = Simpson_regel(f,a,b,n)\n",
    "        \n",
    "        ing = sy.integrate((x*x)*sy.sqrt(1-x*x),(x,a,b))\n",
    "        \n",
    "        print(\"Ergebnis der Sekantentrapezregel: %f\" % sek)\n",
    "        print(\"Ergebnis der Tangententrapezregel: %f\" % tang)\n",
    "        print(\"Ergebnis der Simpson Regel: %f\" % sim)\n",
    "        print(\"Ergebnis der Berechnung mit Sympy: %f\" % ing)\n",
    "\n",
    "    else:\n",
    "        a = 0\n",
    "        b = 1\n",
    "        n = int(input(\"Bitte wählen Sie die Anzahl Streifen. \\n\"))\n",
    "        f = function3\n",
    "        \n",
    "        sek = Sekanten_trapez_regel(f,a,b,n)\n",
    "        tang = Tangenten_trapez_regel(f,a,b,n)\n",
    "        sim = Simpson_regel(f,a,b,n)\n",
    "        \n",
    "        ing = sy.integrate(x*x,(x,a,b))\n",
    "        \n",
    "        print(\"Ergebnis der Sekantentrapezregel: %f\" % sek)\n",
    "        print(\"Ergebnis der Tangententrapezregel: %f\" % tang)\n",
    "        print(\"Ergebnis der Simpson Regel: %f\" % sim)\n",
    "        print(\"Ergebnis der Berechnung mit Sympy: %f\" % ing)\n",
    "\n",
    "if __name__ == \"__main__\":\n",
    "    main()"
   ]
  },
  {
   "cell_type": "code",
   "execution_count": null,
   "metadata": {},
   "outputs": [],
   "source": []
  },
  {
   "cell_type": "markdown",
   "metadata": {},
   "source": []
  },
  {
   "cell_type": "code",
   "execution_count": null,
   "metadata": {},
   "outputs": [],
   "source": []
  }
 ],
 "metadata": {
  "kernelspec": {
   "display_name": "Python 3",
   "language": "python",
   "name": "python3"
  },
  "language_info": {
   "codemirror_mode": {
    "name": "ipython",
    "version": 3
   },
   "file_extension": ".py",
   "mimetype": "text/x-python",
   "name": "python",
   "nbconvert_exporter": "python",
   "pygments_lexer": "ipython3",
   "version": "3.7.3"
  }
 },
 "nbformat": 4,
 "nbformat_minor": 2
}
